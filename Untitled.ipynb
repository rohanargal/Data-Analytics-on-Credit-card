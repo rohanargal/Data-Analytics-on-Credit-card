{
 "cells": [
  {
   "cell_type": "code",
   "execution_count": 4,
   "id": "ffc0ed34",
   "metadata": {},
   "outputs": [
    {
     "name": "stdout",
     "output_type": "stream",
     "text": [
      "10\n"
     ]
    }
   ],
   "source": [
    "def febonacci(n):\n",
    "    feb_seq=[0,1]\n",
    "    for i in range(2,n):\n",
    "        feb_seq.append(feb_seq[i-1] + feb_seq[i-2])\n",
    "        print(feb_seq)\n",
    "    return febonacci(n)\n",
    "\n",
    "n = int(input())"
   ]
  },
  {
   "cell_type": "code",
   "execution_count": null,
   "id": "7a2611f3",
   "metadata": {},
   "outputs": [],
   "source": [
    "def des(a):\n",
    "    for i in range(1,a):\n",
    "        for j in range(a):\n",
    "            print('',end='')\n",
    "    return des(a)\n",
    "n=int(input(a))"
   ]
  },
  {
   "cell_type": "code",
   "execution_count": null,
   "id": "eb1c00c2",
   "metadata": {},
   "outputs": [],
   "source": []
  }
 ],
 "metadata": {
  "kernelspec": {
   "display_name": "Python 3 (ipykernel)",
   "language": "python",
   "name": "python3"
  },
  "language_info": {
   "codemirror_mode": {
    "name": "ipython",
    "version": 3
   },
   "file_extension": ".py",
   "mimetype": "text/x-python",
   "name": "python",
   "nbconvert_exporter": "python",
   "pygments_lexer": "ipython3",
   "version": "3.9.13"
  }
 },
 "nbformat": 4,
 "nbformat_minor": 5
}
